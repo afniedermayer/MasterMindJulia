{
 "cells": [
  {
   "cell_type": "markdown",
   "metadata": {},
   "source": [
    "# Notebook Illustrating Usage of MasterMind Module"
   ]
  },
  {
   "cell_type": "code",
   "execution_count": 1,
   "metadata": {},
   "outputs": [
    {
     "data": {
      "text/plain": [
       "Main.MasterMind"
      ]
     },
     "execution_count": 1,
     "metadata": {},
     "output_type": "execute_result"
    }
   ],
   "source": [
    "include(\"MasterMind.jl\")"
   ]
  },
  {
   "cell_type": "code",
   "execution_count": 2,
   "metadata": {},
   "outputs": [],
   "source": [
    "using .MasterMind"
   ]
  },
  {
   "cell_type": "markdown",
   "metadata": {},
   "source": [
    "## Let Computer Play Automatically Against Itself"
   ]
  },
  {
   "cell_type": "code",
   "execution_count": 26,
   "metadata": {},
   "outputs": [
    {
     "name": "stdout",
     "output_type": "stream",
     "text": [
      "  0.000000 seconds\n",
      "2401 possible solutions left.\n",
      "guess = [yellow blue red black]\n",
      "answer = [blacks=0 whites=1]\n",
      "  0.112516 seconds (11.53 k allocations: 2.924 MiB)\n",
      "444 possible solutions left.\n",
      "guess = [empty empty blue white]\n",
      "answer = [blacks=0 whites=2]\n",
      "  0.016064 seconds (10.05 k allocations: 1.976 MiB)\n",
      "64 possible solutions left.\n",
      "guess = [blue white green green]\n",
      "answer = [blacks=2 whites=0]\n",
      "  0.002400 seconds (9.62 k allocations: 1.712 MiB)\n",
      "5 possible solutions left.\n",
      "guess = [red white empty green]\n",
      "answer = [blacks=2 whites=2]\n",
      "  0.000109 seconds (3 allocations: 304 bytes)\n",
      "1 possible solutions left.\n",
      "guess = [red white green empty]\n",
      "answer = [blacks=4 whites=0]\n",
      "Found solution: [red white green empty] in 5 steps.\n",
      "  0.000000 seconds\n",
      "2401 possible solutions left.\n",
      "guess = [yellow blue red black]\n",
      "answer = [blacks=0 whites=1]\n",
      "  0.078985 seconds (11.53 k allocations: 2.924 MiB)\n",
      "444 possible solutions left.\n",
      "guess = [empty empty blue white]\n",
      "answer = [blacks=0 whites=2]\n",
      "  0.029366 seconds (10.05 k allocations: 1.976 MiB)\n",
      "64 possible solutions left.\n",
      "guess = [blue white green green]\n",
      "answer = [blacks=2 whites=0]\n",
      "  0.002157 seconds (9.62 k allocations: 1.712 MiB)\n",
      "5 possible solutions left.\n",
      "guess = [red white empty green]\n",
      "answer = [blacks=2 whites=2]\n",
      "  0.000145 seconds (3 allocations: 304 bytes)\n",
      "1 possible solutions left.\n",
      "guess = [red white green empty]\n",
      "answer = [blacks=4 whites=0]\n",
      "Found solution: [red white green empty] in 5 steps.\n",
      "  0.120616 seconds (32.40 k allocations: 6.672 MiB)\n"
     ]
    }
   ],
   "source": [
    "# warm up for JIT\n",
    "play_automatically(Guess([red,white,green,empty_]))\n",
    "@time play_automatically(Guess([red,white,green,empty_]))"
   ]
  },
  {
   "cell_type": "markdown",
   "metadata": {},
   "source": [
    "## Play Manually Against Computer\n",
    "The computer guesses the user answers."
   ]
  },
  {
   "cell_type": "code",
   "execution_count": 5,
   "metadata": {},
   "outputs": [
    {
     "name": "stdout",
     "output_type": "stream",
     "text": [
      "Please think of a color for 4 pegs.\n",
      "Possible colors are (empty_, blue, red, black, white, green, yellow).\n",
      "For each question, respond with the number of black pegs and white pegs, separated by a space.\n",
      "Enter 'q' to quit.\n",
      "  0.000001 seconds\n",
      "2401 possible solutions left.\n",
      "\n",
      "My guess is [yellow blue red black].\n",
      "Black pegs, white pegs?\n"
     ]
    },
    {
     "name": "stdin",
     "output_type": "stream",
     "text": [
      "stdin>  0 1\n"
     ]
    },
    {
     "name": "stdout",
     "output_type": "stream",
     "text": [
      "  0.086693 seconds (11.53 k allocations: 2.924 MiB)\n",
      "444 possible solutions left.\n",
      "\n",
      "My guess is [empty empty blue white].\n",
      "Black pegs, white pegs?\n"
     ]
    },
    {
     "name": "stdin",
     "output_type": "stream",
     "text": [
      "stdin>  0 2\n"
     ]
    },
    {
     "name": "stdout",
     "output_type": "stream",
     "text": [
      "  0.020877 seconds (10.05 k allocations: 1.976 MiB)\n",
      "64 possible solutions left.\n",
      "\n",
      "My guess is [blue white green green].\n",
      "Black pegs, white pegs?\n"
     ]
    },
    {
     "name": "stdin",
     "output_type": "stream",
     "text": [
      "stdin>  2 0\n"
     ]
    },
    {
     "name": "stdout",
     "output_type": "stream",
     "text": [
      "  0.004921 seconds (9.62 k allocations: 1.712 MiB)\n",
      "5 possible solutions left.\n",
      "\n",
      "My guess is [red white empty green].\n",
      "Black pegs, white pegs?\n"
     ]
    },
    {
     "name": "stdin",
     "output_type": "stream",
     "text": [
      "stdin>  2 2\n"
     ]
    },
    {
     "name": "stdout",
     "output_type": "stream",
     "text": [
      "  0.000194 seconds (3 allocations: 304 bytes)\n",
      "1 possible solutions left.\n",
      "\n",
      "My guess is [red white green empty].\n",
      "Black pegs, white pegs?\n"
     ]
    },
    {
     "name": "stdin",
     "output_type": "stream",
     "text": [
      "stdin>  4 0\n"
     ]
    },
    {
     "name": "stdout",
     "output_type": "stream",
     "text": [
      "Found solution: [red white green empty] in 5 steps.\n"
     ]
    }
   ],
   "source": [
    "play_manually()"
   ]
  },
  {
   "cell_type": "markdown",
   "metadata": {},
   "source": [
    "## Benchmarks"
   ]
  },
  {
   "cell_type": "code",
   "execution_count": 6,
   "metadata": {},
   "outputs": [],
   "source": [
    "using BenchmarkTools"
   ]
  },
  {
   "cell_type": "code",
   "execution_count": 7,
   "metadata": {},
   "outputs": [
    {
     "data": {
      "text/plain": [
       "BenchmarkTools.Trial: \n",
       "  memory estimate:  0 bytes\n",
       "  allocs estimate:  0\n",
       "  --------------\n",
       "  minimum time:     15.730 ns (0.00% GC)\n",
       "  median time:      16.733 ns (0.00% GC)\n",
       "  mean time:        22.178 ns (0.00% GC)\n",
       "  maximum time:     3.974 μs (0.00% GC)\n",
       "  --------------\n",
       "  samples:          10000\n",
       "  evals/sample:     998"
      ]
     },
     "execution_count": 7,
     "metadata": {},
     "output_type": "execute_result"
    }
   ],
   "source": [
    "let g1 = random_guess(), g2 = random_guess()\n",
    "    @benchmark answer = compare($g1, $g2)\n",
    "end"
   ]
  },
  {
   "cell_type": "code",
   "execution_count": 25,
   "metadata": {},
   "outputs": [
    {
     "data": {
      "text/plain": [
       "BenchmarkTools.Trial: \n",
       "  memory estimate:  0 bytes\n",
       "  allocs estimate:  0\n",
       "  --------------\n",
       "  minimum time:     42.423 ns (0.00% GC)\n",
       "  median time:      42.727 ns (0.00% GC)\n",
       "  mean time:        48.580 ns (0.00% GC)\n",
       "  maximum time:     1.578 μs (0.00% GC)\n",
       "  --------------\n",
       "  samples:          10000\n",
       "  evals/sample:     990"
      ]
     },
     "execution_count": 25,
     "metadata": {},
     "output_type": "execute_result"
    }
   ],
   "source": [
    "let g1 = random_guess(), g2 = random_guess()\n",
    "    answer = compare(g1, g2)\n",
    "    fl = FrequencyList()\n",
    "    @benchmark $fl.fl[$answer] = get($fl.fl, $answer, 0) + 1\n",
    "end"
   ]
  }
 ],
 "metadata": {
  "kernelspec": {
   "display_name": "Julia 1.5.3",
   "language": "julia",
   "name": "julia-1.5"
  },
  "language_info": {
   "file_extension": ".jl",
   "mimetype": "application/julia",
   "name": "julia",
   "version": "1.5.3"
  }
 },
 "nbformat": 4,
 "nbformat_minor": 4
}
