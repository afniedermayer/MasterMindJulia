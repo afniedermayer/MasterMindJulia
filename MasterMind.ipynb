{
 "cells": [
  {
   "cell_type": "code",
   "execution_count": 3,
   "metadata": {},
   "outputs": [],
   "source": [
    "#"
   ]
  },
  {
   "cell_type": "code",
   "execution_count": 4,
   "metadata": {},
   "outputs": [],
   "source": [
    "using StaticArrays"
   ]
  },
  {
   "cell_type": "code",
   "execution_count": 5,
   "metadata": {},
   "outputs": [],
   "source": [
    "@enum Color::Int empty blue red black white green yellow"
   ]
  },
  {
   "cell_type": "code",
   "execution_count": 6,
   "metadata": {},
   "outputs": [
    {
     "data": {
      "text/plain": [
       "Enum Color:\n",
       "empty = 0\n",
       "blue = 1\n",
       "red = 2\n",
       "black = 3\n",
       "white = 4\n",
       "green = 5\n",
       "yellow = 6"
      ]
     },
     "execution_count": 6,
     "metadata": {},
     "output_type": "execute_result"
    }
   ],
   "source": [
    "Color"
   ]
  },
  {
   "cell_type": "code",
   "execution_count": 7,
   "metadata": {},
   "outputs": [
    {
     "data": {
      "text/plain": [
       "Dict{String,Color} with 7 entries:\n",
       "  \"g\" => green\n",
       "  \"w\" => white\n",
       "  \"e\" => empty\n",
       "  \"k\" => black\n",
       "  \"b\" => blue\n",
       "  \"r\" => red\n",
       "  \"y\" => yellow"
      ]
     },
     "execution_count": 7,
     "metadata": {},
     "output_type": "execute_result"
    }
   ],
   "source": [
    "const color_letters = Dict(\"e\" => empty, \"b\" => blue, \"r\" => red, \"k\" => black, \"w\" => white, \"g\" => green, \"y\" => yellow)"
   ]
  },
  {
   "cell_type": "code",
   "execution_count": 8,
   "metadata": {},
   "outputs": [
    {
     "data": {
      "text/plain": [
       "4"
      ]
     },
     "execution_count": 8,
     "metadata": {},
     "output_type": "execute_result"
    }
   ],
   "source": [
    "const npegs = 4"
   ]
  },
  {
   "cell_type": "code",
   "execution_count": 9,
   "metadata": {},
   "outputs": [],
   "source": [
    "struct Guess\n",
    "    pegs::SVector{npegs, Color} \n",
    "    #pegs::Vector{Color}\n",
    "    #pegs::NTuple{npegs, Color}\n",
    "end"
   ]
  },
  {
   "cell_type": "code",
   "execution_count": 10,
   "metadata": {},
   "outputs": [],
   "source": [
    "#Guess(array::Array) = Guess(tuple(array...))"
   ]
  },
  {
   "cell_type": "code",
   "execution_count": 11,
   "metadata": {},
   "outputs": [
    {
     "data": {
      "text/plain": [
       "Guess"
      ]
     },
     "execution_count": 11,
     "metadata": {},
     "output_type": "execute_result"
    }
   ],
   "source": [
    "Guess() = Guess(fill(empty, npegs))"
   ]
  },
  {
   "cell_type": "code",
   "execution_count": 12,
   "metadata": {},
   "outputs": [
    {
     "data": {
      "text/plain": [
       "Guess"
      ]
     },
     "execution_count": 12,
     "metadata": {},
     "output_type": "execute_result"
    }
   ],
   "source": [
    "Guess(s::String) = Guess([color_letters[string(c)] for c in s])"
   ]
  },
  {
   "cell_type": "code",
   "execution_count": 13,
   "metadata": {},
   "outputs": [],
   "source": [
    "Base.show(io::IO, g::Guess) = print(io, \"[\", join(string.(g.pegs), \" \"), \"]\")"
   ]
  },
  {
   "cell_type": "code",
   "execution_count": 14,
   "metadata": {},
   "outputs": [
    {
     "data": {
      "text/plain": [
       "7"
      ]
     },
     "execution_count": 14,
     "metadata": {},
     "output_type": "execute_result"
    }
   ],
   "source": [
    "const ncolors = length(instances(Color))"
   ]
  },
  {
   "cell_type": "code",
   "execution_count": 15,
   "metadata": {},
   "outputs": [
    {
     "data": {
      "text/plain": [
       "random_color (generic function with 1 method)"
      ]
     },
     "execution_count": 15,
     "metadata": {},
     "output_type": "execute_result"
    }
   ],
   "source": [
    "random_color() = Color(rand(0:ncolors-1))"
   ]
  },
  {
   "cell_type": "code",
   "execution_count": 16,
   "metadata": {},
   "outputs": [
    {
     "data": {
      "text/plain": [
       "random_color (generic function with 2 methods)"
      ]
     },
     "execution_count": 16,
     "metadata": {},
     "output_type": "execute_result"
    }
   ],
   "source": [
    "random_color(n) = Color.(rand(0:ncolors-1, n))"
   ]
  },
  {
   "cell_type": "code",
   "execution_count": 17,
   "metadata": {},
   "outputs": [
    {
     "data": {
      "text/plain": [
       "random_guess (generic function with 1 method)"
      ]
     },
     "execution_count": 17,
     "metadata": {},
     "output_type": "execute_result"
    }
   ],
   "source": [
    "random_guess() = Guess(random_color(npegs))"
   ]
  },
  {
   "cell_type": "code",
   "execution_count": 18,
   "metadata": {},
   "outputs": [],
   "source": [
    "struct Answer\n",
    "    blacks::Int\n",
    "    whites::Int\n",
    "end"
   ]
  },
  {
   "cell_type": "code",
   "execution_count": 19,
   "metadata": {},
   "outputs": [
    {
     "data": {
      "text/plain": [
       "all_black (generic function with 1 method)"
      ]
     },
     "execution_count": 19,
     "metadata": {},
     "output_type": "execute_result"
    }
   ],
   "source": [
    "all_black(a::Answer) = a.blacks == npegs"
   ]
  },
  {
   "cell_type": "code",
   "execution_count": 20,
   "metadata": {},
   "outputs": [],
   "source": [
    "Base.show(io::IO, a::Answer) = print(io, \"[blacks=$(a.blacks) whites=$(a.whites)]\")"
   ]
  },
  {
   "cell_type": "code",
   "execution_count": 21,
   "metadata": {},
   "outputs": [
    {
     "data": {
      "text/plain": [
       "compare (generic function with 1 method)"
      ]
     },
     "execution_count": 21,
     "metadata": {},
     "output_type": "execute_result"
    }
   ],
   "source": [
    "function compare(g1::Guess, g2::Guess)\n",
    "    blacks, whites = 0, 0\n",
    "    used1 = @MVector zeros(Bool, npegs)\n",
    "    used2 = @MVector zeros(Bool, npegs)\n",
    "    for i = 1:npegs\n",
    "        if g1.pegs[i] == g2.pegs[i]\n",
    "            blacks += 1\n",
    "            used1[i], used2[i] = true, true\n",
    "        end\n",
    "    end\n",
    "    for i = 1:npegs\n",
    "        for j = 1:npegs\n",
    "            if i != j && !used1[i] && !used2[j] && g1.pegs[i] == g2.pegs[j]\n",
    "                whites += 1\n",
    "            used1[i], used2[j] = true, true\n",
    "            end\n",
    "        end\n",
    "    end\n",
    "    return Answer(blacks, whites)\n",
    "end"
   ]
  },
  {
   "cell_type": "code",
   "execution_count": 23,
   "metadata": {},
   "outputs": [
    {
     "name": "stdout",
     "output_type": "stream",
     "text": [
      "[red blue red green] [red white empty empty] [blacks=1 whites=0]\n",
      "false\n"
     ]
    }
   ],
   "source": [
    "let g1 = random_guess(), g2 = random_guess()\n",
    "    println(\"$g1 $g2 \", compare(g1, g2))\n",
    "    println(g1 == g2)\n",
    "end"
   ]
  },
  {
   "cell_type": "code",
   "execution_count": 24,
   "metadata": {},
   "outputs": [],
   "source": [
    "struct Fact\n",
    "    guess::Guess\n",
    "    answer::Answer\n",
    "end"
   ]
  },
  {
   "cell_type": "code",
   "execution_count": 25,
   "metadata": {},
   "outputs": [
    {
     "data": {
      "text/plain": [
       "allows (generic function with 1 method)"
      ]
     },
     "execution_count": 25,
     "metadata": {},
     "output_type": "execute_result"
    }
   ],
   "source": [
    "allows(f::Fact, g::Guess) = f.answer == compare(f.guess, g)"
   ]
  },
  {
   "cell_type": "code",
   "execution_count": 26,
   "metadata": {},
   "outputs": [
    {
     "data": {
      "text/plain": [
       "allows (generic function with 2 methods)"
      ]
     },
     "execution_count": 26,
     "metadata": {},
     "output_type": "execute_result"
    }
   ],
   "source": [
    "allows(fs::Vector{Fact}, g::Guess) = all(allows(f, g) for f in fs)"
   ]
  },
  {
   "cell_type": "code",
   "execution_count": 27,
   "metadata": {},
   "outputs": [
    {
     "data": {
      "text/plain": [
       "true"
      ]
     },
     "execution_count": 27,
     "metadata": {},
     "output_type": "execute_result"
    }
   ],
   "source": [
    "facts = [Fact(Guess(\"rwge\"), Answer(3, 0)), Fact(Guess(\"ykbb\"), Answer(0, 1))]\n",
    "allows(facts, Guess(\"rwgy\"))"
   ]
  },
  {
   "cell_type": "code",
   "execution_count": 28,
   "metadata": {},
   "outputs": [],
   "source": [
    "struct FrequencyList\n",
    "    fl::Dict{Answer, Int}\n",
    "end"
   ]
  },
  {
   "cell_type": "code",
   "execution_count": 29,
   "metadata": {},
   "outputs": [
    {
     "data": {
      "text/plain": [
       "FrequencyList"
      ]
     },
     "execution_count": 29,
     "metadata": {},
     "output_type": "execute_result"
    }
   ],
   "source": [
    "FrequencyList() = FrequencyList(Dict{Answer, Int}())"
   ]
  },
  {
   "cell_type": "code",
   "execution_count": 30,
   "metadata": {},
   "outputs": [
    {
     "data": {
      "text/plain": [
       "count_allblacks (generic function with 1 method)"
      ]
     },
     "execution_count": 30,
     "metadata": {},
     "output_type": "execute_result"
    }
   ],
   "source": [
    "count_allblacks(fl::FrequencyList) = fl.fl[Answer(npegs, 0)]"
   ]
  },
  {
   "cell_type": "code",
   "execution_count": 31,
   "metadata": {},
   "outputs": [
    {
     "data": {
      "text/plain": [
       "info_value (generic function with 1 method)"
      ]
     },
     "execution_count": 31,
     "metadata": {},
     "output_type": "execute_result"
    }
   ],
   "source": [
    "function info_value(fl::FrequencyList)\n",
    "    r = 0.0\n",
    "    ntot = 0\n",
    "    for v in values(fl.fl)\n",
    "        ntot += 1\n",
    "        if v != 0 && v != 1\n",
    "            r -= v * log(v)\n",
    "        end\n",
    "    end\n",
    "    if ntot > 0\n",
    "        return (r/ntot + log(ntot)) / log(2.0)\n",
    "    else\n",
    "        return 0.0\n",
    "    end\n",
    "end"
   ]
  },
  {
   "cell_type": "code",
   "execution_count": 32,
   "metadata": {},
   "outputs": [
    {
     "data": {
      "text/plain": [
       "-44.59672469995536"
      ]
     },
     "execution_count": 32,
     "metadata": {},
     "output_type": "execute_result"
    }
   ],
   "source": [
    "info_value(FrequencyList(Dict(Answer(3,0)=>3, Answer(2,2)=>20)))"
   ]
  },
  {
   "cell_type": "code",
   "execution_count": 33,
   "metadata": {},
   "outputs": [],
   "source": [
    "using StatsBase"
   ]
  },
  {
   "cell_type": "code",
   "execution_count": 34,
   "metadata": {},
   "outputs": [
    {
     "data": {
      "text/plain": [
       "calculate_all_guesses! (generic function with 2 methods)"
      ]
     },
     "execution_count": 34,
     "metadata": {},
     "output_type": "execute_result"
    }
   ],
   "source": [
    "function calculate_all_guesses!(result, prev_colors, npegs=npegs)\n",
    "    if length(prev_colors) == npegs\n",
    "        push!(result, Guess(prev_colors))\n",
    "    else\n",
    "        for color in instances(Color)\n",
    "            calculate_all_guesses!(result, [prev_colors; color], npegs)\n",
    "        end\n",
    "    end\n",
    "end"
   ]
  },
  {
   "cell_type": "code",
   "execution_count": 35,
   "metadata": {},
   "outputs": [
    {
     "data": {
      "text/plain": [
       "calculate_all_guesses (generic function with 2 methods)"
      ]
     },
     "execution_count": 35,
     "metadata": {},
     "output_type": "execute_result"
    }
   ],
   "source": [
    "function calculate_all_guesses(npegs=npegs)\n",
    "    result = Guess[]\n",
    "    calculate_all_guesses!(result, Color[], npegs)\n",
    "    return result\n",
    "end"
   ]
  },
  {
   "cell_type": "code",
   "execution_count": 36,
   "metadata": {},
   "outputs": [],
   "source": [
    "const all_guesses = calculate_all_guesses();"
   ]
  },
  {
   "cell_type": "code",
   "execution_count": 37,
   "metadata": {},
   "outputs": [],
   "source": [
    "@enum GameState notfound found impossible"
   ]
  },
  {
   "cell_type": "code",
   "execution_count": 38,
   "metadata": {},
   "outputs": [],
   "source": [
    "using StatsBase"
   ]
  },
  {
   "cell_type": "code",
   "execution_count": 39,
   "metadata": {},
   "outputs": [
    {
     "data": {
      "text/plain": [
       "[yellow blue red black]"
      ]
     },
     "execution_count": 39,
     "metadata": {},
     "output_type": "execute_result"
    }
   ],
   "source": [
    "const fixed_first_guess = Guess([yellow, blue, red, black])"
   ]
  },
  {
   "cell_type": "code",
   "execution_count": 40,
   "metadata": {},
   "outputs": [
    {
     "data": {
      "text/plain": [
       "false"
      ]
     },
     "execution_count": 40,
     "metadata": {},
     "output_type": "execute_result"
    }
   ],
   "source": [
    "const random_first_guess = false"
   ]
  },
  {
   "cell_type": "code",
   "execution_count": 41,
   "metadata": {},
   "outputs": [
    {
     "data": {
      "text/plain": [
       "first_guess (generic function with 1 method)"
      ]
     },
     "execution_count": 41,
     "metadata": {},
     "output_type": "execute_result"
    }
   ],
   "source": [
    "function first_guess()\n",
    "    if !random_first_guess\n",
    "        return fixed_first_guess\n",
    "    end\n",
    "    replace = ncolors < npegs\n",
    "    return Guess(sample(collect(instances(Color)), npegs, replace=replace))\n",
    "end"
   ]
  },
  {
   "cell_type": "code",
   "execution_count": 42,
   "metadata": {},
   "outputs": [
    {
     "data": {
      "text/plain": [
       "Enum Color:\n",
       "empty = 0\n",
       "blue = 1\n",
       "red = 2\n",
       "black = 3\n",
       "white = 4\n",
       "green = 5\n",
       "yellow = 6"
      ]
     },
     "execution_count": 42,
     "metadata": {},
     "output_type": "execute_result"
    }
   ],
   "source": [
    "Color"
   ]
  },
  {
   "cell_type": "code",
   "execution_count": 43,
   "metadata": {},
   "outputs": [
    {
     "data": {
      "text/plain": [
       "make_guess (generic function with 1 method)"
      ]
     },
     "execution_count": 43,
     "metadata": {},
     "output_type": "execute_result"
    }
   ],
   "source": [
    "function make_guess(facts::Vector{Fact})\n",
    "    if length(facts) == 0\n",
    "        return first_guess(), notfound, ncolors^npegs\n",
    "    end\n",
    "    possible_solutions = [guess for guess in all_guesses if allows(facts, guess)]\n",
    "    if length(possible_solutions) == 1\n",
    "        return possible_solutions[1], found, 1\n",
    "    elseif length(possible_solutions) == 0\n",
    "        return Guess(), impossible, 0\n",
    "    end\n",
    "    info_values = zeros(length(all_guesses)) # fill(-Inf, length(all_guesses))\n",
    "    for i = 1:length(all_guesses)\n",
    "        guess = all_guesses[i]\n",
    "        fl = FrequencyList()\n",
    "        for solution in possible_solutions\n",
    "            answer = compare(all_guesses[i], solution)\n",
    "            fl.fl[answer] = get(fl.fl, answer, 0) + 1\n",
    "        end\n",
    "        #@time fl = FrequencyList(countmap(compare(guess, solution) for solution in possible_solutions))\n",
    "        #@show fl\n",
    "        info_values[i] = info_value(fl)\n",
    "        #@show info_values[i]\n",
    "    end\n",
    "    #@show sort(-info_values)[1:4]\n",
    "    max_info_value = maximum(info_values)\n",
    "    idx_best_guesses = findall((x->x==max_info_value), info_values)\n",
    "    for idx in idx_best_guesses\n",
    "        if allows(facts, all_guesses[idx])\n",
    "            return all_guesses[idx], notfound, length(possible_solutions)\n",
    "        end\n",
    "    end\n",
    "    return all_guesses[idx_best_guesses[1]], notfound, length(possible_solutions)\n",
    "end"
   ]
  },
  {
   "cell_type": "code",
   "execution_count": 47,
   "metadata": {},
   "outputs": [
    {
     "data": {
      "text/plain": [
       "play_automatically (generic function with 1 method)"
      ]
     },
     "execution_count": 47,
     "metadata": {},
     "output_type": "execute_result"
    }
   ],
   "source": [
    "function play(ask)\n",
    "    facts = Vector{Fact}()\n",
    "    guess, state = Guess(), notfound\n",
    "    counter = 0\n",
    "    while state == notfound\n",
    "        @time guess, state, possibilities = make_guess(facts)\n",
    "        println(\"$possibilities possible solutions left.\")\n",
    "        if state == impossible\n",
    "            break\n",
    "        end\n",
    "        answer = ask(guess)\n",
    "        if answer == nothing\n",
    "            println(\"quitting\")\n",
    "            return\n",
    "        elseif all_black(answer)\n",
    "            state = found\n",
    "        else\n",
    "            push!(facts, Fact(guess, answer))\n",
    "        end\n",
    "        counter += 1\n",
    "    end\n",
    "    if state == found\n",
    "        println(\"Found solution: $guess in $counter steps.\")\n",
    "    else\n",
    "        println(\"No solution possible!\")\n",
    "    end\n",
    "end\n",
    "\n",
    "function play_automatically(solution) \n",
    "    function ask(guess) \n",
    "        answer = compare(guess, solution)\n",
    "        @show guess answer\n",
    "        return answer\n",
    "    end\n",
    "    play(ask)\n",
    "end"
   ]
  },
  {
   "cell_type": "code",
   "execution_count": 48,
   "metadata": {},
   "outputs": [
    {
     "name": "stdout",
     "output_type": "stream",
     "text": [
      "  0.000002 seconds\n",
      "2401 possible solutions left.\n",
      "guess = [yellow blue red black]\n",
      "answer = [blacks=0 whites=1]\n",
      "  0.089869 seconds (11.53 k allocations: 2.924 MiB)\n",
      "444 possible solutions left.\n",
      "guess = [empty empty blue white]\n",
      "answer = [blacks=0 whites=2]\n",
      "  0.021892 seconds (10.05 k allocations: 1.976 MiB)\n",
      "64 possible solutions left.\n",
      "guess = [blue white green green]\n",
      "answer = [blacks=2 whites=0]\n",
      "  0.011510 seconds (9.62 k allocations: 1.712 MiB, 78.42% gc time)\n",
      "5 possible solutions left.\n",
      "guess = [red white empty green]\n",
      "answer = [blacks=2 whites=2]\n",
      "  0.000157 seconds (3 allocations: 304 bytes)\n",
      "1 possible solutions left.\n",
      "guess = [red white green empty]\n",
      "answer = [blacks=4 whites=0]\n",
      "Found solution: [red white green empty] in 5 steps.\n"
     ]
    }
   ],
   "source": [
    "# warm up for JIT\n",
    "play_automatically(Guess([red,white,green,empty]))"
   ]
  },
  {
   "cell_type": "code",
   "execution_count": 57,
   "metadata": {},
   "outputs": [
    {
     "name": "stdout",
     "output_type": "stream",
     "text": [
      "  0.000000 seconds\n",
      "2401 possible solutions left.\n",
      "guess = [yellow blue red black]\n",
      "answer = [blacks=0 whites=1]\n",
      "  0.116376 seconds (11.53 k allocations: 2.924 MiB)\n",
      "444 possible solutions left.\n",
      "guess = [empty empty blue white]\n",
      "answer = [blacks=0 whites=2]\n",
      "  0.016157 seconds (10.05 k allocations: 1.976 MiB)\n",
      "64 possible solutions left.\n",
      "guess = [blue white green green]\n",
      "answer = [blacks=2 whites=0]\n",
      "  0.003597 seconds (9.62 k allocations: 1.712 MiB)\n",
      "5 possible solutions left.\n",
      "guess = [red white empty green]\n",
      "answer = [blacks=2 whites=2]\n",
      "  0.000150 seconds (3 allocations: 304 bytes)\n",
      "1 possible solutions left.\n",
      "guess = [red white green empty]\n",
      "answer = [blacks=4 whites=0]\n",
      "Found solution: [red white green empty] in 5 steps.\n",
      "  0.142632 seconds (32.33 k allocations: 6.663 MiB)\n"
     ]
    }
   ],
   "source": [
    "@time play_automatically(Guess([red,white,green,empty]))"
   ]
  },
  {
   "cell_type": "code",
   "execution_count": 50,
   "metadata": {},
   "outputs": [
    {
     "data": {
      "text/plain": [
       "play_manually (generic function with 1 method)"
      ]
     },
     "execution_count": 50,
     "metadata": {},
     "output_type": "execute_result"
    }
   ],
   "source": [
    "function play_manually()\n",
    "    println(\"Please think of a color for $npegs pegs.\")\n",
    "    println(\"Possible colors are $(instances(Color)).\")\n",
    "    println(\"For each question, respond with the number of black pegs and white pegs, separated by a space.\")\n",
    "    println(\"Enter 'q' to quit.\")\n",
    "    function ask(guess)\n",
    "        println()\n",
    "        println(\"My guess is $guess.\")\n",
    "        println(\"Black pegs, white pegs?\")\n",
    "        response = readline()\n",
    "        if startswith(response, \"q\")\n",
    "            return nothing\n",
    "        else\n",
    "            blacks, whites = parse.(Int, split(response))\n",
    "            return Answer(blacks, whites)\n",
    "        end\n",
    "    end\n",
    "    play(ask)\n",
    "end"
   ]
  },
  {
   "cell_type": "code",
   "execution_count": 58,
   "metadata": {},
   "outputs": [
    {
     "name": "stdout",
     "output_type": "stream",
     "text": [
      "Please think of a color for 4 pegs.\n",
      "Possible colors are (empty, blue, red, black, white, green, yellow).\n",
      "For each question, respond with the number of black pegs and white pegs, separated by a space.\n",
      "Enter 'q' to quit.\n",
      "  0.000001 seconds\n",
      "2401 possible solutions left.\n",
      "\n",
      "My guess is [yellow blue red black].\n",
      "Black pegs, white pegs?\n"
     ]
    },
    {
     "name": "stdin",
     "output_type": "stream",
     "text": [
      "stdin>  0 1\n"
     ]
    },
    {
     "name": "stdout",
     "output_type": "stream",
     "text": [
      "  0.114996 seconds (11.53 k allocations: 2.924 MiB)\n",
      "444 possible solutions left.\n",
      "\n",
      "My guess is [empty empty blue white].\n",
      "Black pegs, white pegs?\n"
     ]
    },
    {
     "name": "stdin",
     "output_type": "stream",
     "text": [
      "stdin>  0 2\n"
     ]
    },
    {
     "name": "stdout",
     "output_type": "stream",
     "text": [
      "  0.025993 seconds (10.05 k allocations: 1.976 MiB)\n",
      "64 possible solutions left.\n",
      "\n",
      "My guess is [blue white green green].\n",
      "Black pegs, white pegs?\n"
     ]
    },
    {
     "name": "stdin",
     "output_type": "stream",
     "text": [
      "stdin>  0 2\n"
     ]
    },
    {
     "name": "stdout",
     "output_type": "stream",
     "text": [
      "  0.004836 seconds (9.62 k allocations: 1.705 MiB)\n",
      "9 possible solutions left.\n",
      "\n",
      "My guess is [white green empty red].\n",
      "Black pegs, white pegs?\n"
     ]
    },
    {
     "name": "stdin",
     "output_type": "stream",
     "text": [
      "stdin>  0 4\n"
     ]
    },
    {
     "name": "stdout",
     "output_type": "stream",
     "text": [
      "  0.000165 seconds (3 allocations: 304 bytes)\n",
      "1 possible solutions left.\n",
      "\n",
      "My guess is [green red white empty].\n",
      "Black pegs, white pegs?\n"
     ]
    },
    {
     "name": "stdin",
     "output_type": "stream",
     "text": [
      "stdin>  4 0\n"
     ]
    },
    {
     "name": "stdout",
     "output_type": "stream",
     "text": [
      "Found solution: [green red white empty] in 5 steps.\n"
     ]
    }
   ],
   "source": [
    "play_manually()"
   ]
  },
  {
   "cell_type": "code",
   "execution_count": 44,
   "metadata": {},
   "outputs": [],
   "source": [
    "using BenchmarkTools"
   ]
  },
  {
   "cell_type": "code",
   "execution_count": 45,
   "metadata": {},
   "outputs": [
    {
     "data": {
      "text/plain": [
       "BenchmarkTools.Trial: \n",
       "  memory estimate:  0 bytes\n",
       "  allocs estimate:  0\n",
       "  --------------\n",
       "  minimum time:     14.528 ns (0.00% GC)\n",
       "  median time:      17.134 ns (0.00% GC)\n",
       "  mean time:        22.373 ns (0.00% GC)\n",
       "  maximum time:     3.030 μs (0.00% GC)\n",
       "  --------------\n",
       "  samples:          10000\n",
       "  evals/sample:     998"
      ]
     },
     "execution_count": 45,
     "metadata": {},
     "output_type": "execute_result"
    }
   ],
   "source": [
    "let g1 = random_guess(), g2 = random_guess()\n",
    "    @benchmark answer = compare($g1, $g2)\n",
    "end"
   ]
  },
  {
   "cell_type": "code",
   "execution_count": 46,
   "metadata": {},
   "outputs": [
    {
     "data": {
      "text/plain": [
       "BenchmarkTools.Trial: \n",
       "  memory estimate:  0 bytes\n",
       "  allocs estimate:  0\n",
       "  --------------\n",
       "  minimum time:     42.539 ns (0.00% GC)\n",
       "  median time:      44.154 ns (0.00% GC)\n",
       "  mean time:        49.764 ns (0.00% GC)\n",
       "  maximum time:     593.246 ns (0.00% GC)\n",
       "  --------------\n",
       "  samples:          10000\n",
       "  evals/sample:     992"
      ]
     },
     "execution_count": 46,
     "metadata": {},
     "output_type": "execute_result"
    }
   ],
   "source": [
    "let g1 = random_guess(), g2 = random_guess()\n",
    "    answer = compare(g1, g2)\n",
    "    fl = FrequencyList()\n",
    "    @benchmark $fl.fl[$answer] = get($fl.fl, $answer, 0) + 1\n",
    "end"
   ]
  },
  {
   "cell_type": "code",
   "execution_count": null,
   "metadata": {},
   "outputs": [],
   "source": []
  }
 ],
 "metadata": {
  "kernelspec": {
   "display_name": "Julia 1.5.3",
   "language": "julia",
   "name": "julia-1.5"
  },
  "language_info": {
   "file_extension": ".jl",
   "mimetype": "application/julia",
   "name": "julia",
   "version": "1.5.3"
  }
 },
 "nbformat": 4,
 "nbformat_minor": 4
}
